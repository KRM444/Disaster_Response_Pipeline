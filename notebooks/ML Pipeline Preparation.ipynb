{
 "cells": [
  {
   "cell_type": "markdown",
   "metadata": {},
   "source": [
    "# ML Pipeline Preparation\n",
    "Follow the instructions below to help you create your ML pipeline.\n",
    "### 1. Import libraries and load data from database.\n",
    "- Import Python libraries\n",
    "- Load dataset from database with [`read_sql_table`](https://pandas.pydata.org/pandas-docs/stable/generated/pandas.read_sql_table.html)\n",
    "- Define feature and target variables X and Y"
   ]
  },
  {
   "cell_type": "code",
   "execution_count": 36,
   "metadata": {},
   "outputs": [
    {
     "name": "stderr",
     "output_type": "stream",
     "text": [
      "[nltk_data] Downloading package punkt to /Users/kunal/nltk_data...\n",
      "[nltk_data]   Package punkt is already up-to-date!\n",
      "[nltk_data] Downloading package stopwords to /Users/kunal/nltk_data...\n",
      "[nltk_data]   Package stopwords is already up-to-date!\n"
     ]
    }
   ],
   "source": [
    "# import libraries\n",
    "import re\n",
    "import pandas as pd\n",
    "import numpy as np\n",
    "import nltk\n",
    "import pickle\n",
    "nltk.download('punkt')\n",
    "nltk.download('stopwords')\n",
    "import warnings\n",
    "warnings.simplefilter('ignore')\n",
    "from nltk.tokenize import word_tokenize\n",
    "from nltk.stem import WordNetLemmatizer\n",
    "from nltk.corpus import stopwords\n",
    "from sqlalchemy import create_engine\n",
    "from sklearn.model_selection import train_test_split\n",
    "from sklearn.pipeline import Pipeline\n",
    "from sklearn.multioutput import MultiOutputClassifier\n",
    "from sklearn.ensemble import RandomForestClassifier, AdaBoostClassifier\n",
    "from sklearn.model_selection import GridSearchCV\n",
    "from sklearn.tree import DecisionTreeClassifier\n",
    "from sklearn.feature_extraction.text import CountVectorizer, TfidfTransformer\n",
    "from sklearn.metrics import classification_report"
   ]
  },
  {
   "cell_type": "code",
   "execution_count": 37,
   "metadata": {},
   "outputs": [],
   "source": [
    "# load data from database\n",
    "engine = create_engine('sqlite:///processed_data.db')\n",
    "\n",
    "df = pd.read_sql(\"SELECT * FROM df\", engine)\n",
    "X = df['message']\n",
    "Y = df.drop(['id', 'message', 'original', 'genre'], axis = 1)"
   ]
  },
  {
   "cell_type": "markdown",
   "metadata": {},
   "source": [
    "### 2. Write a tokenization function to process your text data"
   ]
  },
  {
   "cell_type": "code",
   "execution_count": 38,
   "metadata": {},
   "outputs": [],
   "source": [
    "url_regex = 'http[s]?://(?:[a-zA-Z]|[0-9]|[$-_@.&+]|[!*\\(\\),]|(?:%[0-9a-fA-F][0-9a-fA-F]))+'\n",
    "\n",
    "def tokenize(text):\n",
    "    # Find and replace URL's with a placeholder \n",
    "    detected_urls = re.findall(url_regex, text)\n",
    "    for url in detected_urls:\n",
    "        text = text.replace(url, 'urlplaceholder')\n",
    "        \n",
    "    # Normalize, tokenize, and remove punctuation\n",
    "    # word_tokenize simply splits up a sentence string into a list containing split elements as the module sees fit\n",
    "    tokens = word_tokenize(re.sub(r\"[^a-zA-Z0-9]\", \" \", text.lower()))\n",
    "\n",
    "    # Remove Stopwords\n",
    "    # stopwords in nltk are the most common words in data. They are words that you do not want to use to describe the topic of your content.  \n",
    "    tokens = [t for t in tokens if t not in stopwords.words('english')]\n",
    "    \n",
    "    # Lemmatization\n",
    "    # Lemmatization is the process of replacing a word with its root or head word called lemma\n",
    "    lemmatizer = WordNetLemmatizer()\n",
    "    tokens = [lemmatizer.lemmatize(t) for t in tokens]\n",
    "\n",
    "    return tokens"
   ]
  },
  {
   "cell_type": "code",
   "execution_count": null,
   "metadata": {},
   "outputs": [],
   "source": [
    "# Example\n",
    "tokenize('I will be going to IKEA today to eat and buy a few things for home.')"
   ]
  },
  {
   "cell_type": "code",
   "execution_count": 23,
   "metadata": {},
   "outputs": [],
   "source": [
    "cv = CountVectorizer()\n",
    "cv_transformer = cv.fit_transform(['I will visit IKEA today.',\n",
    "                                    'Fried chicken tastes good.',\n",
    "                                    'This is an example... :D'])"
   ]
  },
  {
   "cell_type": "code",
   "execution_count": 32,
   "metadata": {},
   "outputs": [
    {
     "data": {
      "text/plain": [
       "array(['an', 'chicken', 'example', 'fried', 'good', 'ikea', 'is',\n",
       "       'tastes', 'this', 'today', 'visit', 'will'], dtype=object)"
      ]
     },
     "execution_count": 32,
     "metadata": {},
     "output_type": "execute_result"
    }
   ],
   "source": [
    "# Column Names\n",
    "cv.get_feature_names_out()"
   ]
  },
  {
   "cell_type": "code",
   "execution_count": 25,
   "metadata": {},
   "outputs": [
    {
     "data": {
      "text/plain": [
       "array([[0, 0, 0, 0, 0, 1, 0, 0, 0, 1, 1, 1],\n",
       "       [0, 1, 0, 1, 1, 0, 0, 1, 0, 0, 0, 0],\n",
       "       [1, 0, 1, 0, 0, 0, 1, 0, 1, 0, 0, 0]])"
      ]
     },
     "execution_count": 25,
     "metadata": {},
     "output_type": "execute_result"
    }
   ],
   "source": [
    "# Matrix\n",
    "cv_transformer.toarray()"
   ]
  },
  {
   "cell_type": "code",
   "execution_count": 33,
   "metadata": {},
   "outputs": [
    {
     "data": {
      "text/html": [
       "<div>\n",
       "<style scoped>\n",
       "    .dataframe tbody tr th:only-of-type {\n",
       "        vertical-align: middle;\n",
       "    }\n",
       "\n",
       "    .dataframe tbody tr th {\n",
       "        vertical-align: top;\n",
       "    }\n",
       "\n",
       "    .dataframe thead th {\n",
       "        text-align: right;\n",
       "    }\n",
       "</style>\n",
       "<table border=\"1\" class=\"dataframe\">\n",
       "  <thead>\n",
       "    <tr style=\"text-align: right;\">\n",
       "      <th></th>\n",
       "      <th>an</th>\n",
       "      <th>chicken</th>\n",
       "      <th>example</th>\n",
       "      <th>fried</th>\n",
       "      <th>good</th>\n",
       "      <th>ikea</th>\n",
       "      <th>is</th>\n",
       "      <th>tastes</th>\n",
       "      <th>this</th>\n",
       "      <th>today</th>\n",
       "      <th>visit</th>\n",
       "      <th>will</th>\n",
       "    </tr>\n",
       "  </thead>\n",
       "  <tbody>\n",
       "    <tr>\n",
       "      <th>Sentence 1:</th>\n",
       "      <td>0</td>\n",
       "      <td>0</td>\n",
       "      <td>0</td>\n",
       "      <td>0</td>\n",
       "      <td>0</td>\n",
       "      <td>1</td>\n",
       "      <td>0</td>\n",
       "      <td>0</td>\n",
       "      <td>0</td>\n",
       "      <td>1</td>\n",
       "      <td>1</td>\n",
       "      <td>1</td>\n",
       "    </tr>\n",
       "    <tr>\n",
       "      <th>Sentence 2:</th>\n",
       "      <td>0</td>\n",
       "      <td>1</td>\n",
       "      <td>0</td>\n",
       "      <td>1</td>\n",
       "      <td>1</td>\n",
       "      <td>0</td>\n",
       "      <td>0</td>\n",
       "      <td>1</td>\n",
       "      <td>0</td>\n",
       "      <td>0</td>\n",
       "      <td>0</td>\n",
       "      <td>0</td>\n",
       "    </tr>\n",
       "    <tr>\n",
       "      <th>Sentence 3:</th>\n",
       "      <td>1</td>\n",
       "      <td>0</td>\n",
       "      <td>1</td>\n",
       "      <td>0</td>\n",
       "      <td>0</td>\n",
       "      <td>0</td>\n",
       "      <td>1</td>\n",
       "      <td>0</td>\n",
       "      <td>1</td>\n",
       "      <td>0</td>\n",
       "      <td>0</td>\n",
       "      <td>0</td>\n",
       "    </tr>\n",
       "  </tbody>\n",
       "</table>\n",
       "</div>"
      ],
      "text/plain": [
       "             an  chicken  example  fried  good  ikea  is  tastes  this  today  \\\n",
       "Sentence 1:   0        0        0      0     0     1   0       0     0      1   \n",
       "Sentence 2:   0        1        0      1     1     0   0       1     0      0   \n",
       "Sentence 3:   1        0        1      0     0     0   1       0     1      0   \n",
       "\n",
       "             visit  will  \n",
       "Sentence 1:      1     1  \n",
       "Sentence 2:      0     0  \n",
       "Sentence 3:      0     0  "
      ]
     },
     "execution_count": 33,
     "metadata": {},
     "output_type": "execute_result"
    }
   ],
   "source": [
    "# Simpler way to understand:\n",
    "df = pd.DataFrame(data    = cv_transformer.toarray(),\n",
    "                  index   = ['Sentence 1:', 'Sentence 2:', 'Sentence 3:'],\n",
    "                  columns = cv.get_feature_names_out()\n",
    "                 )\n",
    "df"
   ]
  },
  {
   "cell_type": "markdown",
   "metadata": {},
   "source": [
    "$\\delta$\n",
    "\n",
    "The goal here is to learn a classification rule whose output is a set, or vector, of labels\n",
    "\n",
    "$\\hat{v}_1 = {\\hat{y}_1 ∈ Y_1,  \\hat{y}_2 ∈ Y_2,..., \\hat{y}_n ∈ Y_n}$"
   ]
  },
  {
   "cell_type": "markdown",
   "metadata": {},
   "source": [
    "### 3. Build a machine learning pipeline\n",
    "This machine pipeline should take in the `message` column as input and output classification results on the other 36 categories in the dataset. You may find the [MultiOutputClassifier](http://scikit-learn.org/stable/modules/generated/sklearn.multioutput.MultiOutputClassifier.html) helpful for predicting multiple target variables."
   ]
  },
  {
   "cell_type": "code",
   "execution_count": 39,
   "metadata": {},
   "outputs": [],
   "source": [
    "pipeline = Pipeline([\n",
    "                    ('count_vectorizer', CountVectorizer(tokenizer = tokenize)),\n",
    "                    ('tfidf_transformer', TfidfTransformer()),\n",
    "                    ('MultiOutput_Random_Forest_Classifier', MultiOutputClassifier(RandomForestClassifier()))\n",
    "                    ])"
   ]
  },
  {
   "cell_type": "code",
   "execution_count": 49,
   "metadata": {},
   "outputs": [
    {
     "data": {
      "text/plain": [
       "dict_keys(['memory', 'steps', 'verbose', 'vect', 'tfidf', 'clf', 'vect__analyzer', 'vect__binary', 'vect__decode_error', 'vect__dtype', 'vect__encoding', 'vect__input', 'vect__lowercase', 'vect__max_df', 'vect__max_features', 'vect__min_df', 'vect__ngram_range', 'vect__preprocessor', 'vect__stop_words', 'vect__strip_accents', 'vect__token_pattern', 'vect__tokenizer', 'vect__vocabulary', 'tfidf__norm', 'tfidf__smooth_idf', 'tfidf__sublinear_tf', 'tfidf__use_idf', 'clf__estimator__bootstrap', 'clf__estimator__ccp_alpha', 'clf__estimator__class_weight', 'clf__estimator__criterion', 'clf__estimator__max_depth', 'clf__estimator__max_features', 'clf__estimator__max_leaf_nodes', 'clf__estimator__max_samples', 'clf__estimator__min_impurity_decrease', 'clf__estimator__min_samples_leaf', 'clf__estimator__min_samples_split', 'clf__estimator__min_weight_fraction_leaf', 'clf__estimator__n_estimators', 'clf__estimator__n_jobs', 'clf__estimator__oob_score', 'clf__estimator__random_state', 'clf__estimator__verbose', 'clf__estimator__warm_start', 'clf__estimator', 'clf__n_jobs'])"
      ]
     },
     "execution_count": 49,
     "metadata": {},
     "output_type": "execute_result"
    }
   ],
   "source": [
    "pipeline.get_params().keys()"
   ]
  },
  {
   "cell_type": "markdown",
   "metadata": {},
   "source": [
    "### 4. Train pipeline\n",
    "- Split data into train and test sets\n",
    "- Train pipeline"
   ]
  },
  {
   "cell_type": "code",
   "execution_count": 40,
   "metadata": {},
   "outputs": [
    {
     "data": {
      "text/html": [
       "<style>#sk-container-id-1 {color: black;background-color: white;}#sk-container-id-1 pre{padding: 0;}#sk-container-id-1 div.sk-toggleable {background-color: white;}#sk-container-id-1 label.sk-toggleable__label {cursor: pointer;display: block;width: 100%;margin-bottom: 0;padding: 0.3em;box-sizing: border-box;text-align: center;}#sk-container-id-1 label.sk-toggleable__label-arrow:before {content: \"▸\";float: left;margin-right: 0.25em;color: #696969;}#sk-container-id-1 label.sk-toggleable__label-arrow:hover:before {color: black;}#sk-container-id-1 div.sk-estimator:hover label.sk-toggleable__label-arrow:before {color: black;}#sk-container-id-1 div.sk-toggleable__content {max-height: 0;max-width: 0;overflow: hidden;text-align: left;background-color: #f0f8ff;}#sk-container-id-1 div.sk-toggleable__content pre {margin: 0.2em;color: black;border-radius: 0.25em;background-color: #f0f8ff;}#sk-container-id-1 input.sk-toggleable__control:checked~div.sk-toggleable__content {max-height: 200px;max-width: 100%;overflow: auto;}#sk-container-id-1 input.sk-toggleable__control:checked~label.sk-toggleable__label-arrow:before {content: \"▾\";}#sk-container-id-1 div.sk-estimator input.sk-toggleable__control:checked~label.sk-toggleable__label {background-color: #d4ebff;}#sk-container-id-1 div.sk-label input.sk-toggleable__control:checked~label.sk-toggleable__label {background-color: #d4ebff;}#sk-container-id-1 input.sk-hidden--visually {border: 0;clip: rect(1px 1px 1px 1px);clip: rect(1px, 1px, 1px, 1px);height: 1px;margin: -1px;overflow: hidden;padding: 0;position: absolute;width: 1px;}#sk-container-id-1 div.sk-estimator {font-family: monospace;background-color: #f0f8ff;border: 1px dotted black;border-radius: 0.25em;box-sizing: border-box;margin-bottom: 0.5em;}#sk-container-id-1 div.sk-estimator:hover {background-color: #d4ebff;}#sk-container-id-1 div.sk-parallel-item::after {content: \"\";width: 100%;border-bottom: 1px solid gray;flex-grow: 1;}#sk-container-id-1 div.sk-label:hover label.sk-toggleable__label {background-color: #d4ebff;}#sk-container-id-1 div.sk-serial::before {content: \"\";position: absolute;border-left: 1px solid gray;box-sizing: border-box;top: 0;bottom: 0;left: 50%;z-index: 0;}#sk-container-id-1 div.sk-serial {display: flex;flex-direction: column;align-items: center;background-color: white;padding-right: 0.2em;padding-left: 0.2em;position: relative;}#sk-container-id-1 div.sk-item {position: relative;z-index: 1;}#sk-container-id-1 div.sk-parallel {display: flex;align-items: stretch;justify-content: center;background-color: white;position: relative;}#sk-container-id-1 div.sk-item::before, #sk-container-id-1 div.sk-parallel-item::before {content: \"\";position: absolute;border-left: 1px solid gray;box-sizing: border-box;top: 0;bottom: 0;left: 50%;z-index: -1;}#sk-container-id-1 div.sk-parallel-item {display: flex;flex-direction: column;z-index: 1;position: relative;background-color: white;}#sk-container-id-1 div.sk-parallel-item:first-child::after {align-self: flex-end;width: 50%;}#sk-container-id-1 div.sk-parallel-item:last-child::after {align-self: flex-start;width: 50%;}#sk-container-id-1 div.sk-parallel-item:only-child::after {width: 0;}#sk-container-id-1 div.sk-dashed-wrapped {border: 1px dashed gray;margin: 0 0.4em 0.5em 0.4em;box-sizing: border-box;padding-bottom: 0.4em;background-color: white;}#sk-container-id-1 div.sk-label label {font-family: monospace;font-weight: bold;display: inline-block;line-height: 1.2em;}#sk-container-id-1 div.sk-label-container {text-align: center;}#sk-container-id-1 div.sk-container {/* jupyter's `normalize.less` sets `[hidden] { display: none; }` but bootstrap.min.css set `[hidden] { display: none !important; }` so we also need the `!important` here to be able to override the default hidden behavior on the sphinx rendered scikit-learn.org. See: https://github.com/scikit-learn/scikit-learn/issues/21755 */display: inline-block !important;position: relative;}#sk-container-id-1 div.sk-text-repr-fallback {display: none;}</style><div id=\"sk-container-id-1\" class=\"sk-top-container\"><div class=\"sk-text-repr-fallback\"><pre>Pipeline(steps=[(&#x27;count_vectorizer&#x27;,\n",
       "                 CountVectorizer(tokenizer=&lt;function tokenize at 0x135c2a0e0&gt;)),\n",
       "                (&#x27;tfidf_transformer&#x27;, TfidfTransformer()),\n",
       "                (&#x27;MultiOutput_Random_Forest_Classifier&#x27;,\n",
       "                 MultiOutputClassifier(estimator=RandomForestClassifier()))])</pre><b>In a Jupyter environment, please rerun this cell to show the HTML representation or trust the notebook. <br />On GitHub, the HTML representation is unable to render, please try loading this page with nbviewer.org.</b></div><div class=\"sk-container\" hidden><div class=\"sk-item sk-dashed-wrapped\"><div class=\"sk-label-container\"><div class=\"sk-label sk-toggleable\"><input class=\"sk-toggleable__control sk-hidden--visually\" id=\"sk-estimator-id-1\" type=\"checkbox\" ><label for=\"sk-estimator-id-1\" class=\"sk-toggleable__label sk-toggleable__label-arrow\">Pipeline</label><div class=\"sk-toggleable__content\"><pre>Pipeline(steps=[(&#x27;count_vectorizer&#x27;,\n",
       "                 CountVectorizer(tokenizer=&lt;function tokenize at 0x135c2a0e0&gt;)),\n",
       "                (&#x27;tfidf_transformer&#x27;, TfidfTransformer()),\n",
       "                (&#x27;MultiOutput_Random_Forest_Classifier&#x27;,\n",
       "                 MultiOutputClassifier(estimator=RandomForestClassifier()))])</pre></div></div></div><div class=\"sk-serial\"><div class=\"sk-item\"><div class=\"sk-estimator sk-toggleable\"><input class=\"sk-toggleable__control sk-hidden--visually\" id=\"sk-estimator-id-2\" type=\"checkbox\" ><label for=\"sk-estimator-id-2\" class=\"sk-toggleable__label sk-toggleable__label-arrow\">CountVectorizer</label><div class=\"sk-toggleable__content\"><pre>CountVectorizer(tokenizer=&lt;function tokenize at 0x135c2a0e0&gt;)</pre></div></div></div><div class=\"sk-item\"><div class=\"sk-estimator sk-toggleable\"><input class=\"sk-toggleable__control sk-hidden--visually\" id=\"sk-estimator-id-3\" type=\"checkbox\" ><label for=\"sk-estimator-id-3\" class=\"sk-toggleable__label sk-toggleable__label-arrow\">TfidfTransformer</label><div class=\"sk-toggleable__content\"><pre>TfidfTransformer()</pre></div></div></div><div class=\"sk-item sk-dashed-wrapped\"><div class=\"sk-label-container\"><div class=\"sk-label sk-toggleable\"><input class=\"sk-toggleable__control sk-hidden--visually\" id=\"sk-estimator-id-4\" type=\"checkbox\" ><label for=\"sk-estimator-id-4\" class=\"sk-toggleable__label sk-toggleable__label-arrow\">MultiOutput_Random_Forest_Classifier: MultiOutputClassifier</label><div class=\"sk-toggleable__content\"><pre>MultiOutputClassifier(estimator=RandomForestClassifier())</pre></div></div></div><div class=\"sk-parallel\"><div class=\"sk-parallel-item\"><div class=\"sk-item\"><div class=\"sk-label-container\"><div class=\"sk-label sk-toggleable\"><input class=\"sk-toggleable__control sk-hidden--visually\" id=\"sk-estimator-id-5\" type=\"checkbox\" ><label for=\"sk-estimator-id-5\" class=\"sk-toggleable__label sk-toggleable__label-arrow\">estimator: RandomForestClassifier</label><div class=\"sk-toggleable__content\"><pre>RandomForestClassifier()</pre></div></div></div><div class=\"sk-serial\"><div class=\"sk-item\"><div class=\"sk-estimator sk-toggleable\"><input class=\"sk-toggleable__control sk-hidden--visually\" id=\"sk-estimator-id-6\" type=\"checkbox\" ><label for=\"sk-estimator-id-6\" class=\"sk-toggleable__label sk-toggleable__label-arrow\">RandomForestClassifier</label><div class=\"sk-toggleable__content\"><pre>RandomForestClassifier()</pre></div></div></div></div></div></div></div></div></div></div></div></div>"
      ],
      "text/plain": [
       "Pipeline(steps=[('count_vectorizer',\n",
       "                 CountVectorizer(tokenizer=<function tokenize at 0x135c2a0e0>)),\n",
       "                ('tfidf_transformer', TfidfTransformer()),\n",
       "                ('MultiOutput_Random_Forest_Classifier',\n",
       "                 MultiOutputClassifier(estimator=RandomForestClassifier()))])"
      ]
     },
     "execution_count": 40,
     "metadata": {},
     "output_type": "execute_result"
    }
   ],
   "source": [
    "#define the predictor variables and the response variable\n",
    "X = df['message']\n",
    "Y = df.drop(['id', 'message', 'original', 'genre'], axis = 1)\n",
    "\n",
    "#split the dataset into training and testing sets\n",
    "X_train, X_test, Y_train, Y_test = train_test_split(X, Y, random_state = 1234)\n",
    "\n",
    "#fit the model using the training data\n",
    "pipeline.fit(X_train, Y_train)"
   ]
  },
  {
   "cell_type": "markdown",
   "metadata": {},
   "source": [
    "### 5. Test your model\n",
    "Report the f1 score, precision and recall for each output category of the dataset. You can do this by iterating through the columns and calling sklearn's `classification_report` on each."
   ]
  },
  {
   "cell_type": "code",
   "execution_count": 41,
   "metadata": {},
   "outputs": [
    {
     "data": {
      "text/plain": [
       "[array([[0.05, 0.95],\n",
       "        [0.26, 0.74],\n",
       "        [0.52, 0.48],\n",
       "        ...,\n",
       "        [0.11, 0.89],\n",
       "        [0.12, 0.88],\n",
       "        [0.06, 0.94]]),\n",
       " array([[0.95, 0.05],\n",
       "        [0.84, 0.16],\n",
       "        [0.66, 0.34],\n",
       "        ...,\n",
       "        [0.59, 0.41],\n",
       "        [0.93, 0.07],\n",
       "        [0.94, 0.06]]),\n",
       " array([[1.  , 0.  ],\n",
       "        [0.99, 0.01],\n",
       "        [1.  , 0.  ],\n",
       "        ...,\n",
       "        [1.  , 0.  ],\n",
       "        [0.99, 0.01],\n",
       "        [1.  , 0.  ]]),\n",
       " array([[0.65, 0.35],\n",
       "        [0.68, 0.32],\n",
       "        [0.78, 0.22],\n",
       "        ...,\n",
       "        [0.28, 0.72],\n",
       "        [0.41, 0.59],\n",
       "        [0.73, 0.27]]),\n",
       " array([[0.93, 0.07],\n",
       "        [0.96, 0.04],\n",
       "        [0.91, 0.09],\n",
       "        ...,\n",
       "        [0.89, 0.11],\n",
       "        [1.  , 0.  ],\n",
       "        [0.99, 0.01]]),\n",
       " array([[0.99, 0.01],\n",
       "        [1.  , 0.  ],\n",
       "        [1.  , 0.  ],\n",
       "        ...,\n",
       "        [0.97, 0.03],\n",
       "        [0.97, 0.03],\n",
       "        [1.  , 0.  ]]),\n",
       " array([[0.91, 0.09],\n",
       "        [0.99, 0.01],\n",
       "        [1.  , 0.  ],\n",
       "        ...,\n",
       "        [0.77, 0.23],\n",
       "        [0.96, 0.04],\n",
       "        [0.99, 0.01]]),\n",
       " array([[1.  , 0.  ],\n",
       "        [1.  , 0.  ],\n",
       "        [1.  , 0.  ],\n",
       "        ...,\n",
       "        [1.  , 0.  ],\n",
       "        [0.83, 0.17],\n",
       "        [0.98, 0.02]]),\n",
       " array([[1.  , 0.  ],\n",
       "        [1.  , 0.  ],\n",
       "        [1.  , 0.  ],\n",
       "        ...,\n",
       "        [1.  , 0.  ],\n",
       "        [0.81, 0.19],\n",
       "        [1.  , 0.  ]]),\n",
       " array([[1.  , 0.  ],\n",
       "        [0.95, 0.05],\n",
       "        [0.97, 0.03],\n",
       "        ...,\n",
       "        [0.44, 0.56],\n",
       "        [0.99, 0.01],\n",
       "        [0.99, 0.01]]),\n",
       " array([[0.99, 0.01],\n",
       "        [0.9 , 0.1 ],\n",
       "        [0.96, 0.04],\n",
       "        ...,\n",
       "        [0.88, 0.12],\n",
       "        [0.48, 0.52],\n",
       "        [0.99, 0.01]]),\n",
       " array([[0.99, 0.01],\n",
       "        [0.91, 0.09],\n",
       "        [1.  , 0.  ],\n",
       "        ...,\n",
       "        [0.88, 0.12],\n",
       "        [0.96, 0.04],\n",
       "        [1.  , 0.  ]]),\n",
       " array([[1.  , 0.  ],\n",
       "        [0.97, 0.03],\n",
       "        [1.  , 0.  ],\n",
       "        ...,\n",
       "        [1.  , 0.  ],\n",
       "        [1.  , 0.  ],\n",
       "        [1.  , 0.  ]]),\n",
       " array([[1.  , 0.  ],\n",
       "        [0.97, 0.03],\n",
       "        [1.  , 0.  ],\n",
       "        ...,\n",
       "        [1.  , 0.  ],\n",
       "        [0.99, 0.01],\n",
       "        [1.  , 0.  ]]),\n",
       " array([[0.98, 0.02],\n",
       "        [0.99, 0.01],\n",
       "        [1.  , 0.  ],\n",
       "        ...,\n",
       "        [1.  , 0.  ],\n",
       "        [1.  , 0.  ],\n",
       "        [0.99, 0.01]]),\n",
       " array([[0.87, 0.13],\n",
       "        [0.99, 0.01],\n",
       "        [1.  , 0.  ],\n",
       "        ...,\n",
       "        [0.99, 0.01],\n",
       "        [0.84, 0.16],\n",
       "        [0.98, 0.02]]),\n",
       " array([[0.97, 0.03],\n",
       "        [0.96, 0.04],\n",
       "        [1.  , 0.  ],\n",
       "        ...,\n",
       "        [0.59, 0.41],\n",
       "        [1.  , 0.  ],\n",
       "        [0.99, 0.01]]),\n",
       " array([[0.86, 0.14],\n",
       "        [0.88, 0.12],\n",
       "        [0.69, 0.31],\n",
       "        ...,\n",
       "        [0.92, 0.08],\n",
       "        [0.93, 0.07],\n",
       "        [0.96, 0.04]]),\n",
       " array([[0.79 , 0.21 ],\n",
       "        [1.   , 0.   ],\n",
       "        [0.99 , 0.01 ],\n",
       "        ...,\n",
       "        [0.7  , 0.3  ],\n",
       "        [1.   , 0.   ],\n",
       "        [0.865, 0.135]]),\n",
       " array([[0.89, 0.11],\n",
       "        [0.94, 0.06],\n",
       "        [0.98, 0.02],\n",
       "        ...,\n",
       "        [1.  , 0.  ],\n",
       "        [1.  , 0.  ],\n",
       "        [0.76, 0.24]]),\n",
       " array([[0.94, 0.06],\n",
       "        [0.99, 0.01],\n",
       "        [1.  , 0.  ],\n",
       "        ...,\n",
       "        [1.  , 0.  ],\n",
       "        [1.  , 0.  ],\n",
       "        [0.94, 0.06]]),\n",
       " array([[1.  , 0.  ],\n",
       "        [1.  , 0.  ],\n",
       "        [1.  , 0.  ],\n",
       "        ...,\n",
       "        [1.  , 0.  ],\n",
       "        [0.97, 0.03],\n",
       "        [0.99, 0.01]]),\n",
       " array([[0.96, 0.04],\n",
       "        [1.  , 0.  ],\n",
       "        [1.  , 0.  ],\n",
       "        ...,\n",
       "        [1.  , 0.  ],\n",
       "        [1.  , 0.  ],\n",
       "        [1.  , 0.  ]]),\n",
       " array([[1., 0.],\n",
       "        [1., 0.],\n",
       "        [1., 0.],\n",
       "        ...,\n",
       "        [1., 0.],\n",
       "        [1., 0.],\n",
       "        [1., 0.]]),\n",
       " array([[1., 0.],\n",
       "        [1., 0.],\n",
       "        [1., 0.],\n",
       "        ...,\n",
       "        [1., 0.],\n",
       "        [1., 0.],\n",
       "        [1., 0.]]),\n",
       " array([[1.  , 0.  ],\n",
       "        [0.99, 0.01],\n",
       "        [1.  , 0.  ],\n",
       "        ...,\n",
       "        [1.  , 0.  ],\n",
       "        [1.  , 0.  ],\n",
       "        [1.  , 0.  ]]),\n",
       " array([[0.81      , 0.19      ],\n",
       "        [1.        , 0.        ],\n",
       "        [1.        , 0.        ],\n",
       "        ...,\n",
       "        [0.74      , 0.26      ],\n",
       "        [0.99      , 0.01      ],\n",
       "        [0.86333333, 0.13666667]]),\n",
       " array([[0.22, 0.78],\n",
       "        [0.6 , 0.4 ],\n",
       "        [0.94, 0.06],\n",
       "        ...,\n",
       "        [0.87, 0.13],\n",
       "        [0.94, 0.06],\n",
       "        [0.31, 0.69]]),\n",
       " array([[0.31, 0.69],\n",
       "        [0.98, 0.02],\n",
       "        [0.97, 0.03],\n",
       "        ...,\n",
       "        [1.  , 0.  ],\n",
       "        [0.99, 0.01],\n",
       "        [0.46, 0.54]]),\n",
       " array([[0.34, 0.66],\n",
       "        [1.  , 0.  ],\n",
       "        [1.  , 0.  ],\n",
       "        ...,\n",
       "        [0.99, 0.01],\n",
       "        [0.96, 0.04],\n",
       "        [0.94, 0.06]]),\n",
       " array([[1., 0.],\n",
       "        [1., 0.],\n",
       "        [1., 0.],\n",
       "        ...,\n",
       "        [1., 0.],\n",
       "        [1., 0.],\n",
       "        [1., 0.]]),\n",
       " array([[0.98, 0.02],\n",
       "        [0.88, 0.12],\n",
       "        [1.  , 0.  ],\n",
       "        ...,\n",
       "        [0.97, 0.03],\n",
       "        [0.98, 0.02],\n",
       "        [0.98, 0.02]]),\n",
       " array([[0.89, 0.11],\n",
       "        [0.99, 0.01],\n",
       "        [1.  , 0.  ],\n",
       "        ...,\n",
       "        [0.94, 0.06],\n",
       "        [0.99, 0.01],\n",
       "        [1.  , 0.  ]]),\n",
       " array([[0.82, 0.18],\n",
       "        [0.95, 0.05],\n",
       "        [1.  , 0.  ],\n",
       "        ...,\n",
       "        [0.78, 0.22],\n",
       "        [0.99, 0.01],\n",
       "        [0.91, 0.09]]),\n",
       " array([[0.9 , 0.1 ],\n",
       "        [0.81, 0.19],\n",
       "        [0.66, 0.34],\n",
       "        ...,\n",
       "        [0.55, 0.45],\n",
       "        [0.91, 0.09],\n",
       "        [0.93, 0.07]])]"
      ]
     },
     "execution_count": 41,
     "metadata": {},
     "output_type": "execute_result"
    }
   ],
   "source": [
    "pipeline.predict_proba(X_test)"
   ]
  },
  {
   "cell_type": "code",
   "execution_count": 51,
   "metadata": {},
   "outputs": [],
   "source": [
    "#use model to make predictions on test data\n",
    "y_hat = pipeline.predict(X_test)\n",
    "y_true = np.array(Y_test)"
   ]
  },
  {
   "cell_type": "code",
   "execution_count": 55,
   "metadata": {},
   "outputs": [
    {
     "name": "stdout",
     "output_type": "stream",
     "text": [
      "                        precision    recall  f1-score   support\n",
      "\n",
      "               related       0.83      0.95      0.89      4955\n",
      "               request       0.85      0.50      0.63      1119\n",
      "                 offer       0.00      0.00      0.00        30\n",
      "           aid_related       0.77      0.69      0.72      2726\n",
      "          medical_help       0.72      0.08      0.14       540\n",
      "      medical_products       0.73      0.10      0.18       317\n",
      "     search_and_rescue       0.79      0.06      0.12       176\n",
      "              security       0.00      0.00      0.00       115\n",
      "              military       0.67      0.04      0.08       231\n",
      "                 water       0.95      0.35      0.51       411\n",
      "                  food       0.85      0.58      0.69       710\n",
      "               shelter       0.84      0.39      0.53       585\n",
      "              clothing       0.63      0.11      0.19       109\n",
      "                 money       0.67      0.03      0.06       130\n",
      "        missing_people       0.00      0.00      0.00        81\n",
      "              refugees       0.67      0.04      0.07       206\n",
      "                 death       0.89      0.15      0.26       323\n",
      "             other_aid       0.64      0.04      0.08       863\n",
      "infrastructure_related       0.29      0.00      0.01       417\n",
      "             transport       0.76      0.10      0.17       294\n",
      "             buildings       0.77      0.15      0.26       330\n",
      "           electricity       0.71      0.04      0.08       119\n",
      "                 tools       0.00      0.00      0.00        36\n",
      "             hospitals       0.00      0.00      0.00        71\n",
      "                 shops       0.00      0.00      0.00        21\n",
      "           aid_centers       0.00      0.00      0.00        78\n",
      "  other_infrastructure       0.29      0.01      0.01       288\n",
      "       weather_related       0.87      0.70      0.77      1820\n",
      "                floods       0.89      0.45      0.60       561\n",
      "                 storm       0.75      0.48      0.59       607\n",
      "                  fire       1.00      0.02      0.03        59\n",
      "            earthquake       0.90      0.79      0.84       626\n",
      "                  cold       0.81      0.10      0.18       128\n",
      "         other_weather       0.50      0.01      0.02       348\n",
      "         direct_report       0.79      0.36      0.49      1248\n",
      "\n",
      "             micro avg       0.82      0.53      0.65     20678\n",
      "             macro avg       0.59      0.21      0.26     20678\n",
      "          weighted avg       0.77      0.53      0.57     20678\n",
      "           samples avg       0.67      0.48      0.51     20678\n",
      "\n"
     ]
    }
   ],
   "source": [
    "print(classification_report(y_true=y_true, \n",
    "                            y_pred=y_hat, \n",
    "                            target_names = Y.columns))"
   ]
  },
  {
   "cell_type": "markdown",
   "metadata": {},
   "source": [
    "`Evaluation Metric Note:` \n",
    "* Usually when the class distribution is unbalanced, accuracy is considered a poor choice as it gives high scores to models which just predict the most frequent class.\n",
    "\n",
    "* With the exception of accuracy, they are naturally applied at the class level: as you can see in this print of a classification report they are defined for each class. They rely on concepts such as true positives or false negative that require defining which class is the positive one.\n",
    "\n",
    "Here is an overview of some metrics:\n",
    "\n",
    "#### 1) Accuracy\n",
    "- ![Accuracy](https://miro.medium.com/max/720/1*gFW6rXbctrhWHxD8OXi4wg.webp)\n",
    "\n",
    "- Accuracy represents the number of correctly classified data instances over the total number of data instances.\n",
    "\n",
    "- Accuracy may not be a good measure if the feature is unbalanced\n",
    "\n",
    "\n",
    "\n",
    "\n",
    "#### 2) Precision\n",
    "- ![Precision](https://miro.medium.com/max/640/1*VXnUvOEdf3IiYVCD6Wd2vg.webp)\n",
    "\n",
    "- Percentage of correct positive predictions relative to total positive predictions.\n",
    "\n",
    "- Precision should ideally be 1 (high) for a good classifier. Precision becomes 1 only when the numerator and denominator are equal i.e **TP = TP + FP**\n",
    "\n",
    "- This also means FP is zero. As FP increases the value of denominator becomes greater than the numerator and precision value decreases (which we don’t want).\n",
    "\n",
    "\n",
    "#### 3) Recall / Sensitivity / TPR\n",
    "- ![Recall](https://miro.medium.com/max/640/1*Aj3aYW4vwYAoJqyL36PVtQ.webp)\n",
    "\n",
    "- Percentage of correct positive predictions relative to total actual positives.\n",
    "\n",
    "- Recall should ideally be 1 (high) for a good classifier. Recall becomes 1 only when the numerator and denominator are equal i.e **TP = TP + FN**\n",
    "\n",
    "- This also means FN is zero. As FN increases the value of denominator becomes greater than the numerator and recall value decreases (which we don’t want).\n",
    "\n",
    "##### Thererfore...\n",
    "- Ideally in a good classifier, we want both precision and recall to be one which also means FP and FN are zero. \n",
    "- Therefore we need a metric that takes into account both precision and recall. F1-score is a metric which takes into account both precision and recall and is defined as follows:\n",
    "\n",
    "#### 4) F1-Score\n",
    "- ![F1_Score](https://miro.medium.com/max/720/1*9uo7HN1pdMlMwTbNSdyO3A.webp)\n",
    "\n",
    "- A weighted harmonic mean of precision and recall. The closer to 1, the better the model.\n",
    "\n",
    "- F1 Score becomes 1 only when precision and recall are both 1.\n",
    "\n",
    "- F1 score becomes high only when both precision and recall are high.\n",
    "\n",
    "\n",
    "\n",
    "\n",
    "***Courtesy of Harikrishnan (https://medium.com/analytics-vidhya/confusion-matrix-accuracy-precision-recall-f1-score-ade299cf63cd)***"
   ]
  },
  {
   "cell_type": "markdown",
   "metadata": {},
   "source": [
    "### 6. Improve your model\n",
    "Use grid search to find better parameters. "
   ]
  },
  {
   "cell_type": "code",
   "execution_count": 70,
   "metadata": {},
   "outputs": [
    {
     "data": {
      "text/plain": [
       "dict_keys(['memory', 'steps', 'verbose', 'vect', 'tfidf', 'clf', 'vect__analyzer', 'vect__binary', 'vect__decode_error', 'vect__dtype', 'vect__encoding', 'vect__input', 'vect__lowercase', 'vect__max_df', 'vect__max_features', 'vect__min_df', 'vect__ngram_range', 'vect__preprocessor', 'vect__stop_words', 'vect__strip_accents', 'vect__token_pattern', 'vect__tokenizer', 'vect__vocabulary', 'tfidf__norm', 'tfidf__smooth_idf', 'tfidf__sublinear_tf', 'tfidf__use_idf', 'clf__estimator__bootstrap', 'clf__estimator__ccp_alpha', 'clf__estimator__class_weight', 'clf__estimator__criterion', 'clf__estimator__max_depth', 'clf__estimator__max_features', 'clf__estimator__max_leaf_nodes', 'clf__estimator__max_samples', 'clf__estimator__min_impurity_decrease', 'clf__estimator__min_samples_leaf', 'clf__estimator__min_samples_split', 'clf__estimator__min_weight_fraction_leaf', 'clf__estimator__n_estimators', 'clf__estimator__n_jobs', 'clf__estimator__oob_score', 'clf__estimator__random_state', 'clf__estimator__verbose', 'clf__estimator__warm_start', 'clf__estimator', 'clf__n_jobs'])"
      ]
     },
     "execution_count": 70,
     "metadata": {},
     "output_type": "execute_result"
    }
   ],
   "source": [
    "pipeline.get_params().keys()"
   ]
  },
  {
   "cell_type": "code",
   "execution_count": 94,
   "metadata": {},
   "outputs": [
    {
     "name": "stdout",
     "output_type": "stream",
     "text": [
      "CPU times: user 17 µs, sys: 1e+03 ns, total: 18 µs\n",
      "Wall time: 21 µs\n"
     ]
    }
   ],
   "source": [
    "%%time\n",
    "\n",
    "parameters = {'vect__min_df': [1, 5],\n",
    "              'tfidf__use_idf':[True, False],\n",
    "              'clf__estimator__n_estimators':[10, 20, 30], \n",
    "              'clf__estimator__min_samples_split':[2, 5, 8]}\n",
    "\n",
    "pipeline_cv = GridSearchCV(estimator=pipeline, param_grid=parameters)"
   ]
  },
  {
   "cell_type": "code",
   "execution_count": 95,
   "metadata": {},
   "outputs": [
    {
     "name": "stdout",
     "output_type": "stream",
     "text": [
      "CPU times: user 5h 16min 7s, sys: 36min 34s, total: 5h 52min 41s\n",
      "Wall time: 6h 2min 8s\n"
     ]
    },
    {
     "data": {
      "text/html": [
       "<style>#sk-container-id-4 {color: black;background-color: white;}#sk-container-id-4 pre{padding: 0;}#sk-container-id-4 div.sk-toggleable {background-color: white;}#sk-container-id-4 label.sk-toggleable__label {cursor: pointer;display: block;width: 100%;margin-bottom: 0;padding: 0.3em;box-sizing: border-box;text-align: center;}#sk-container-id-4 label.sk-toggleable__label-arrow:before {content: \"▸\";float: left;margin-right: 0.25em;color: #696969;}#sk-container-id-4 label.sk-toggleable__label-arrow:hover:before {color: black;}#sk-container-id-4 div.sk-estimator:hover label.sk-toggleable__label-arrow:before {color: black;}#sk-container-id-4 div.sk-toggleable__content {max-height: 0;max-width: 0;overflow: hidden;text-align: left;background-color: #f0f8ff;}#sk-container-id-4 div.sk-toggleable__content pre {margin: 0.2em;color: black;border-radius: 0.25em;background-color: #f0f8ff;}#sk-container-id-4 input.sk-toggleable__control:checked~div.sk-toggleable__content {max-height: 200px;max-width: 100%;overflow: auto;}#sk-container-id-4 input.sk-toggleable__control:checked~label.sk-toggleable__label-arrow:before {content: \"▾\";}#sk-container-id-4 div.sk-estimator input.sk-toggleable__control:checked~label.sk-toggleable__label {background-color: #d4ebff;}#sk-container-id-4 div.sk-label input.sk-toggleable__control:checked~label.sk-toggleable__label {background-color: #d4ebff;}#sk-container-id-4 input.sk-hidden--visually {border: 0;clip: rect(1px 1px 1px 1px);clip: rect(1px, 1px, 1px, 1px);height: 1px;margin: -1px;overflow: hidden;padding: 0;position: absolute;width: 1px;}#sk-container-id-4 div.sk-estimator {font-family: monospace;background-color: #f0f8ff;border: 1px dotted black;border-radius: 0.25em;box-sizing: border-box;margin-bottom: 0.5em;}#sk-container-id-4 div.sk-estimator:hover {background-color: #d4ebff;}#sk-container-id-4 div.sk-parallel-item::after {content: \"\";width: 100%;border-bottom: 1px solid gray;flex-grow: 1;}#sk-container-id-4 div.sk-label:hover label.sk-toggleable__label {background-color: #d4ebff;}#sk-container-id-4 div.sk-serial::before {content: \"\";position: absolute;border-left: 1px solid gray;box-sizing: border-box;top: 0;bottom: 0;left: 50%;z-index: 0;}#sk-container-id-4 div.sk-serial {display: flex;flex-direction: column;align-items: center;background-color: white;padding-right: 0.2em;padding-left: 0.2em;position: relative;}#sk-container-id-4 div.sk-item {position: relative;z-index: 1;}#sk-container-id-4 div.sk-parallel {display: flex;align-items: stretch;justify-content: center;background-color: white;position: relative;}#sk-container-id-4 div.sk-item::before, #sk-container-id-4 div.sk-parallel-item::before {content: \"\";position: absolute;border-left: 1px solid gray;box-sizing: border-box;top: 0;bottom: 0;left: 50%;z-index: -1;}#sk-container-id-4 div.sk-parallel-item {display: flex;flex-direction: column;z-index: 1;position: relative;background-color: white;}#sk-container-id-4 div.sk-parallel-item:first-child::after {align-self: flex-end;width: 50%;}#sk-container-id-4 div.sk-parallel-item:last-child::after {align-self: flex-start;width: 50%;}#sk-container-id-4 div.sk-parallel-item:only-child::after {width: 0;}#sk-container-id-4 div.sk-dashed-wrapped {border: 1px dashed gray;margin: 0 0.4em 0.5em 0.4em;box-sizing: border-box;padding-bottom: 0.4em;background-color: white;}#sk-container-id-4 div.sk-label label {font-family: monospace;font-weight: bold;display: inline-block;line-height: 1.2em;}#sk-container-id-4 div.sk-label-container {text-align: center;}#sk-container-id-4 div.sk-container {/* jupyter's `normalize.less` sets `[hidden] { display: none; }` but bootstrap.min.css set `[hidden] { display: none !important; }` so we also need the `!important` here to be able to override the default hidden behavior on the sphinx rendered scikit-learn.org. See: https://github.com/scikit-learn/scikit-learn/issues/21755 */display: inline-block !important;position: relative;}#sk-container-id-4 div.sk-text-repr-fallback {display: none;}</style><div id=\"sk-container-id-4\" class=\"sk-top-container\"><div class=\"sk-text-repr-fallback\"><pre>GridSearchCV(estimator=Pipeline(steps=[(&#x27;vect&#x27;,\n",
       "                                        CountVectorizer(tokenizer=&lt;function tokenize at 0x13dd11d80&gt;)),\n",
       "                                       (&#x27;tfidf&#x27;, TfidfTransformer()),\n",
       "                                       (&#x27;clf&#x27;,\n",
       "                                        MultiOutputClassifier(estimator=RandomForestClassifier()))]),\n",
       "             param_grid={&#x27;clf__estimator__min_samples_split&#x27;: [2, 5, 8],\n",
       "                         &#x27;clf__estimator__n_estimators&#x27;: [10, 20, 30],\n",
       "                         &#x27;tfidf__use_idf&#x27;: [True, False],\n",
       "                         &#x27;vect__min_df&#x27;: [1, 5]})</pre><b>In a Jupyter environment, please rerun this cell to show the HTML representation or trust the notebook. <br />On GitHub, the HTML representation is unable to render, please try loading this page with nbviewer.org.</b></div><div class=\"sk-container\" hidden><div class=\"sk-item sk-dashed-wrapped\"><div class=\"sk-label-container\"><div class=\"sk-label sk-toggleable\"><input class=\"sk-toggleable__control sk-hidden--visually\" id=\"sk-estimator-id-19\" type=\"checkbox\" ><label for=\"sk-estimator-id-19\" class=\"sk-toggleable__label sk-toggleable__label-arrow\">GridSearchCV</label><div class=\"sk-toggleable__content\"><pre>GridSearchCV(estimator=Pipeline(steps=[(&#x27;vect&#x27;,\n",
       "                                        CountVectorizer(tokenizer=&lt;function tokenize at 0x13dd11d80&gt;)),\n",
       "                                       (&#x27;tfidf&#x27;, TfidfTransformer()),\n",
       "                                       (&#x27;clf&#x27;,\n",
       "                                        MultiOutputClassifier(estimator=RandomForestClassifier()))]),\n",
       "             param_grid={&#x27;clf__estimator__min_samples_split&#x27;: [2, 5, 8],\n",
       "                         &#x27;clf__estimator__n_estimators&#x27;: [10, 20, 30],\n",
       "                         &#x27;tfidf__use_idf&#x27;: [True, False],\n",
       "                         &#x27;vect__min_df&#x27;: [1, 5]})</pre></div></div></div><div class=\"sk-parallel\"><div class=\"sk-parallel-item\"><div class=\"sk-item\"><div class=\"sk-label-container\"><div class=\"sk-label sk-toggleable\"><input class=\"sk-toggleable__control sk-hidden--visually\" id=\"sk-estimator-id-20\" type=\"checkbox\" ><label for=\"sk-estimator-id-20\" class=\"sk-toggleable__label sk-toggleable__label-arrow\">estimator: Pipeline</label><div class=\"sk-toggleable__content\"><pre>Pipeline(steps=[(&#x27;vect&#x27;,\n",
       "                 CountVectorizer(tokenizer=&lt;function tokenize at 0x13dd11d80&gt;)),\n",
       "                (&#x27;tfidf&#x27;, TfidfTransformer()),\n",
       "                (&#x27;clf&#x27;,\n",
       "                 MultiOutputClassifier(estimator=RandomForestClassifier()))])</pre></div></div></div><div class=\"sk-serial\"><div class=\"sk-item\"><div class=\"sk-serial\"><div class=\"sk-item\"><div class=\"sk-estimator sk-toggleable\"><input class=\"sk-toggleable__control sk-hidden--visually\" id=\"sk-estimator-id-21\" type=\"checkbox\" ><label for=\"sk-estimator-id-21\" class=\"sk-toggleable__label sk-toggleable__label-arrow\">CountVectorizer</label><div class=\"sk-toggleable__content\"><pre>CountVectorizer(tokenizer=&lt;function tokenize at 0x13dd11d80&gt;)</pre></div></div></div><div class=\"sk-item\"><div class=\"sk-estimator sk-toggleable\"><input class=\"sk-toggleable__control sk-hidden--visually\" id=\"sk-estimator-id-22\" type=\"checkbox\" ><label for=\"sk-estimator-id-22\" class=\"sk-toggleable__label sk-toggleable__label-arrow\">TfidfTransformer</label><div class=\"sk-toggleable__content\"><pre>TfidfTransformer()</pre></div></div></div><div class=\"sk-item sk-dashed-wrapped\"><div class=\"sk-label-container\"><div class=\"sk-label sk-toggleable\"><input class=\"sk-toggleable__control sk-hidden--visually\" id=\"sk-estimator-id-23\" type=\"checkbox\" ><label for=\"sk-estimator-id-23\" class=\"sk-toggleable__label sk-toggleable__label-arrow\">clf: MultiOutputClassifier</label><div class=\"sk-toggleable__content\"><pre>MultiOutputClassifier(estimator=RandomForestClassifier())</pre></div></div></div><div class=\"sk-parallel\"><div class=\"sk-parallel-item\"><div class=\"sk-item\"><div class=\"sk-label-container\"><div class=\"sk-label sk-toggleable\"><input class=\"sk-toggleable__control sk-hidden--visually\" id=\"sk-estimator-id-24\" type=\"checkbox\" ><label for=\"sk-estimator-id-24\" class=\"sk-toggleable__label sk-toggleable__label-arrow\">estimator: RandomForestClassifier</label><div class=\"sk-toggleable__content\"><pre>RandomForestClassifier()</pre></div></div></div><div class=\"sk-serial\"><div class=\"sk-item\"><div class=\"sk-estimator sk-toggleable\"><input class=\"sk-toggleable__control sk-hidden--visually\" id=\"sk-estimator-id-25\" type=\"checkbox\" ><label for=\"sk-estimator-id-25\" class=\"sk-toggleable__label sk-toggleable__label-arrow\">RandomForestClassifier</label><div class=\"sk-toggleable__content\"><pre>RandomForestClassifier()</pre></div></div></div></div></div></div></div></div></div></div></div></div></div></div></div></div></div>"
      ],
      "text/plain": [
       "GridSearchCV(estimator=Pipeline(steps=[('vect',\n",
       "                                        CountVectorizer(tokenizer=<function tokenize at 0x13dd11d80>)),\n",
       "                                       ('tfidf', TfidfTransformer()),\n",
       "                                       ('clf',\n",
       "                                        MultiOutputClassifier(estimator=RandomForestClassifier()))]),\n",
       "             param_grid={'clf__estimator__min_samples_split': [2, 5, 8],\n",
       "                         'clf__estimator__n_estimators': [10, 20, 30],\n",
       "                         'tfidf__use_idf': [True, False],\n",
       "                         'vect__min_df': [1, 5]})"
      ]
     },
     "execution_count": 95,
     "metadata": {},
     "output_type": "execute_result"
    }
   ],
   "source": [
    "%%time\n",
    "pipeline_cv.fit(X_train, Y_train)\n"
   ]
  },
  {
   "cell_type": "code",
   "execution_count": 96,
   "metadata": {},
   "outputs": [
    {
     "name": "stdout",
     "output_type": "stream",
     "text": [
      "Best Parameters: {'clf__estimator__min_samples_split': 2, 'clf__estimator__n_estimators': 30, 'tfidf__use_idf': True, 'vect__min_df': 5}\n"
     ]
    }
   ],
   "source": [
    "print('Best Parameters:', pipeline_cv.best_params_)"
   ]
  },
  {
   "cell_type": "markdown",
   "metadata": {},
   "source": [
    "### 7. Test your model\n",
    "Show the accuracy, precision, and recall of the tuned model.  \n",
    "\n",
    "Since this project focuses on code quality, process, and  pipelines, there is no minimum performance metric needed to pass. However, make sure to fine tune your models for accuracy, precision and recall to make your project stand out - especially for your portfolio!"
   ]
  },
  {
   "cell_type": "code",
   "execution_count": 97,
   "metadata": {},
   "outputs": [
    {
     "name": "stdout",
     "output_type": "stream",
     "text": [
      "CPU times: user 23.2 s, sys: 3.34 s, total: 26.5 s\n",
      "Wall time: 26.7 s\n"
     ]
    }
   ],
   "source": [
    "%%time\n",
    "\n",
    "y_hat2 = pipeline_cv.predict(X_test)\n",
    "y_true = np.array(Y_test)"
   ]
  },
  {
   "cell_type": "code",
   "execution_count": 98,
   "metadata": {},
   "outputs": [
    {
     "name": "stdout",
     "output_type": "stream",
     "text": [
      "                        precision    recall  f1-score   support\n",
      "\n",
      "               related       0.84      0.94      0.89      4955\n",
      "               request       0.82      0.49      0.61      1119\n",
      "                 offer       0.00      0.00      0.00        30\n",
      "           aid_related       0.74      0.69      0.71      2726\n",
      "          medical_help       0.66      0.12      0.21       540\n",
      "      medical_products       0.80      0.19      0.30       317\n",
      "     search_and_rescue       0.75      0.15      0.25       176\n",
      "              security       0.00      0.00      0.00       115\n",
      "              military       0.68      0.08      0.15       231\n",
      "                 water       0.88      0.28      0.43       411\n",
      "                  food       0.82      0.66      0.73       710\n",
      "               shelter       0.82      0.43      0.57       585\n",
      "              clothing       0.65      0.10      0.17       109\n",
      "                 money       0.62      0.04      0.07       130\n",
      "        missing_people       0.00      0.00      0.00        81\n",
      "              refugees       0.58      0.09      0.16       206\n",
      "                 death       0.81      0.25      0.38       323\n",
      "             other_aid       0.46      0.04      0.07       863\n",
      "infrastructure_related       0.21      0.01      0.01       417\n",
      "             transport       0.60      0.13      0.21       294\n",
      "             buildings       0.79      0.16      0.26       330\n",
      "           electricity       0.75      0.03      0.05       119\n",
      "                 tools       0.00      0.00      0.00        36\n",
      "             hospitals       0.00      0.00      0.00        71\n",
      "                 shops       0.00      0.00      0.00        21\n",
      "           aid_centers       0.00      0.00      0.00        78\n",
      "  other_infrastructure       0.18      0.01      0.01       288\n",
      "       weather_related       0.85      0.73      0.78      1820\n",
      "                floods       0.88      0.50      0.64       561\n",
      "                 storm       0.75      0.61      0.67       607\n",
      "                  fire       1.00      0.05      0.10        59\n",
      "            earthquake       0.90      0.80      0.85       626\n",
      "                  cold       0.79      0.17      0.28       128\n",
      "         other_weather       0.59      0.04      0.07       348\n",
      "         direct_report       0.75      0.37      0.49      1248\n",
      "\n",
      "             micro avg       0.81      0.55      0.65     20678\n",
      "             macro avg       0.57      0.23      0.29     20678\n",
      "          weighted avg       0.74      0.55      0.59     20678\n",
      "           samples avg       0.65      0.48      0.51     20678\n",
      "\n"
     ]
    }
   ],
   "source": [
    "print(classification_report(y_true=y_true, \n",
    "                            y_pred=y_hat2, \n",
    "                            target_names = Y.columns))"
   ]
  },
  {
   "cell_type": "markdown",
   "metadata": {},
   "source": [
    "### 8. Try improving your model further. Here are a few ideas:\n",
    "* try other machine learning algorithms\n",
    "* add other features besides the TF-IDF"
   ]
  },
  {
   "cell_type": "code",
   "execution_count": 103,
   "metadata": {},
   "outputs": [
    {
     "name": "stdout",
     "output_type": "stream",
     "text": [
      "CPU times: user 23.5 ms, sys: 162 ms, total: 185 ms\n",
      "Wall time: 455 ms\n"
     ]
    }
   ],
   "source": [
    "%%time\n",
    "\n",
    "pipeline_ada = Pipeline([('vect', CountVectorizer(tokenizer=tokenize)),\n",
    "                         ('tfidf', TfidfTransformer()),\n",
    "                         ('clf', MultiOutputClassifier(AdaBoostClassifier(base_estimator=DecisionTreeClassifier(class_weight='balanced',max_depth=1))))\n",
    "                        ])\n",
    "\n",
    "parameters_ada = {'clf__estimator__learning_rate': [0.1, 0.3],\n",
    "                  'clf__estimator__n_estimators': [100, 200]}\n",
    "\n",
    "cv_ada = GridSearchCV(estimator=pipeline_ada, param_grid=parameters_ada, cv=3, scoring='f1')\n",
    "\n",
    "#define the predictor variables and the response variable\n",
    "X = df['message']\n",
    "Y = df.drop(['id', 'message', 'original', 'genre'], axis = 1)\n",
    "\n",
    "#split the dataset into training and testing sets\n",
    "X_train, X_test, Y_train, Y_test = train_test_split(X, Y, random_state = 1234)"
   ]
  },
  {
   "cell_type": "code",
   "execution_count": 104,
   "metadata": {},
   "outputs": [
    {
     "name": "stdout",
     "output_type": "stream",
     "text": [
      "Fitting 3 folds for each of 4 candidates, totalling 12 fits\n",
      "[CV 1/3] END clf__estimator__learning_rate=0.1, clf__estimator__n_estimators=100;, score=nan total time= 3.5min\n",
      "[CV 2/3] END clf__estimator__learning_rate=0.1, clf__estimator__n_estimators=100;, score=nan total time= 3.3min\n",
      "[CV 3/3] END clf__estimator__learning_rate=0.1, clf__estimator__n_estimators=100;, score=nan total time= 3.2min\n",
      "[CV 1/3] END clf__estimator__learning_rate=0.1, clf__estimator__n_estimators=200;, score=nan total time= 5.2min\n",
      "[CV 2/3] END clf__estimator__learning_rate=0.1, clf__estimator__n_estimators=200;, score=nan total time= 5.4min\n",
      "[CV 3/3] END clf__estimator__learning_rate=0.1, clf__estimator__n_estimators=200;, score=nan total time= 6.1min\n",
      "[CV 1/3] END clf__estimator__learning_rate=0.3, clf__estimator__n_estimators=100;, score=nan total time= 4.2min\n",
      "[CV 2/3] END clf__estimator__learning_rate=0.3, clf__estimator__n_estimators=100;, score=nan total time= 4.2min\n",
      "[CV 3/3] END clf__estimator__learning_rate=0.3, clf__estimator__n_estimators=100;, score=nan total time= 3.9min\n",
      "[CV 1/3] END clf__estimator__learning_rate=0.3, clf__estimator__n_estimators=200;, score=nan total time= 5.4min\n",
      "[CV 2/3] END clf__estimator__learning_rate=0.3, clf__estimator__n_estimators=200;, score=nan total time= 4.4min\n",
      "[CV 3/3] END clf__estimator__learning_rate=0.3, clf__estimator__n_estimators=200;, score=nan total time= 4.4min\n",
      "CPU times: user 50min 48s, sys: 3min 24s, total: 54min 13s\n",
      "Wall time: 56min 37s\n"
     ]
    }
   ],
   "source": [
    "%%time\n",
    "\n",
    "tuned_model = cv_ada.fit(X_train, Y_train)"
   ]
  },
  {
   "cell_type": "code",
   "execution_count": 105,
   "metadata": {},
   "outputs": [
    {
     "name": "stdout",
     "output_type": "stream",
     "text": [
      "{'clf__estimator__learning_rate': 0.1, 'clf__estimator__n_estimators': 100}\n"
     ]
    }
   ],
   "source": [
    "print(cv_ada.best_params_)"
   ]
  },
  {
   "cell_type": "code",
   "execution_count": 106,
   "metadata": {},
   "outputs": [
    {
     "name": "stdout",
     "output_type": "stream",
     "text": [
      "CPU times: user 23.5 s, sys: 3.43 s, total: 26.9 s\n",
      "Wall time: 27.4 s\n"
     ]
    }
   ],
   "source": [
    "%%time\n",
    "\n",
    "y_hat3 = cv_ada.predict(X_test)\n",
    "y_true = np.array(Y_test)"
   ]
  },
  {
   "cell_type": "code",
   "execution_count": 107,
   "metadata": {},
   "outputs": [
    {
     "name": "stdout",
     "output_type": "stream",
     "text": [
      "                        precision    recall  f1-score   support\n",
      "\n",
      "               related       0.93      0.60      0.73      4955\n",
      "               request       0.53      0.69      0.60      1119\n",
      "                 offer       0.02      0.60      0.04        30\n",
      "           aid_related       0.71      0.61      0.65      2726\n",
      "          medical_help       0.44      0.55      0.49       540\n",
      "      medical_products       0.28      0.69      0.40       317\n",
      "     search_and_rescue       0.09      0.57      0.15       176\n",
      "              security       0.06      0.38      0.11       115\n",
      "              military       0.40      0.68      0.50       231\n",
      "                 water       0.56      0.87      0.68       411\n",
      "                  food       0.76      0.81      0.78       710\n",
      "               shelter       0.62      0.73      0.67       585\n",
      "              clothing       0.40      0.62      0.49       109\n",
      "                 money       0.19      0.71      0.30       130\n",
      "        missing_people       0.04      0.43      0.08        81\n",
      "              refugees       0.22      0.60      0.32       206\n",
      "                 death       0.51      0.70      0.59       323\n",
      "             other_aid       0.30      0.53      0.39       863\n",
      "infrastructure_related       0.18      0.51      0.27       417\n",
      "             transport       0.30      0.44      0.36       294\n",
      "             buildings       0.39      0.71      0.50       330\n",
      "           electricity       0.41      0.65      0.50       119\n",
      "                 tools       0.02      0.39      0.05        36\n",
      "             hospitals       0.11      0.51      0.18        71\n",
      "                 shops       0.01      0.43      0.02        21\n",
      "           aid_centers       0.08      0.54      0.14        78\n",
      "  other_infrastructure       0.12      0.51      0.20       288\n",
      "       weather_related       0.87      0.65      0.74      1820\n",
      "                floods       0.69      0.65      0.67       561\n",
      "                 storm       0.64      0.80      0.71       607\n",
      "                  fire       0.20      0.46      0.27        59\n",
      "            earthquake       0.89      0.82      0.85       626\n",
      "                  cold       0.39      0.70      0.50       128\n",
      "         other_weather       0.30      0.49      0.37       348\n",
      "         direct_report       0.48      0.64      0.55      1248\n",
      "\n",
      "             micro avg       0.45      0.64      0.52     20678\n",
      "             macro avg       0.38      0.61      0.42     20678\n",
      "          weighted avg       0.64      0.64      0.61     20678\n",
      "           samples avg       0.32      0.44      0.34     20678\n",
      "\n"
     ]
    }
   ],
   "source": [
    "print(classification_report(y_true=y_true, \n",
    "                            y_pred=y_hat3, \n",
    "                            target_names = Y.columns))"
   ]
  },
  {
   "cell_type": "markdown",
   "metadata": {},
   "source": [
    "`testing ada2`\n",
    "- using the best parameters\n",
    "- dropping certain features with less than 1%"
   ]
  },
  {
   "cell_type": "code",
   "execution_count": 115,
   "metadata": {},
   "outputs": [],
   "source": [
    "# Testing ada with best params:\n",
    "# {'clf__estimator__learning_rate': 0.1, 'clf__estimator__n_estimators': 100}\n",
    "\n",
    "\n",
    "pipeline_ada = Pipeline([('vect', CountVectorizer(tokenizer=tokenize)),\n",
    "                         ('tfidf', TfidfTransformer()),\n",
    "                         ('clf', MultiOutputClassifier(AdaBoostClassifier(base_estimator=DecisionTreeClassifier(class_weight='balanced'))))\n",
    "                        ])\n",
    "\n",
    "parameters_ada = {'clf__estimator__learning_rate': [0.1],\n",
    "                  'clf__estimator__n_estimators': [100]}\n",
    "\n",
    "cv_ada2 = GridSearchCV(estimator=pipeline_ada, param_grid=parameters_ada, cv=2, scoring='f1')\n",
    "\n",
    "#define the predictor variables and the response variable\n",
    "X = df['message']\n",
    "Y = df.drop(['id', 'message', 'original', 'genre', 'offer', 'clothing', 'missing_people', 'tools', 'shops', 'aid_centers'], axis = 1)\n",
    "\n",
    "#split the dataset into training and testing sets\n",
    "X_train, X_test, Y_train, Y_test = train_test_split(X, Y, random_state = 1234)"
   ]
  },
  {
   "cell_type": "code",
   "execution_count": 116,
   "metadata": {},
   "outputs": [
    {
     "name": "stdout",
     "output_type": "stream",
     "text": [
      "CPU times: user 1h 6min 16s, sys: 1min 17s, total: 1h 7min 34s\n",
      "Wall time: 1h 9min 49s\n"
     ]
    }
   ],
   "source": [
    "%%time\n",
    "\n",
    "tuned_model = cv_ada2.fit(X_train, Y_train)"
   ]
  },
  {
   "cell_type": "code",
   "execution_count": 117,
   "metadata": {},
   "outputs": [
    {
     "name": "stdout",
     "output_type": "stream",
     "text": [
      "CPU times: user 30 s, sys: 5.29 s, total: 35.3 s\n",
      "Wall time: 38.1 s\n"
     ]
    }
   ],
   "source": [
    "%%time\n",
    "\n",
    "y_hat4 = cv_ada2.predict(X_test)\n",
    "y_true = np.array(Y_test)"
   ]
  },
  {
   "cell_type": "code",
   "execution_count": 118,
   "metadata": {},
   "outputs": [
    {
     "name": "stdout",
     "output_type": "stream",
     "text": [
      "                        precision    recall  f1-score   support\n",
      "\n",
      "               related       0.86      0.84      0.85      4955\n",
      "               request       0.56      0.60      0.58      1119\n",
      "           aid_related       0.69      0.65      0.67      2726\n",
      "          medical_help       0.42      0.36      0.39       540\n",
      "      medical_products       0.44      0.42      0.43       317\n",
      "     search_and_rescue       0.23      0.16      0.19       176\n",
      "              security       0.10      0.10      0.10       115\n",
      "              military       0.41      0.42      0.41       231\n",
      "                 water       0.60      0.70      0.65       411\n",
      "                  food       0.69      0.78      0.73       710\n",
      "               shelter       0.62      0.62      0.62       585\n",
      "                 money       0.20      0.38      0.26       130\n",
      "              refugees       0.34      0.33      0.33       206\n",
      "                 death       0.64      0.56      0.60       323\n",
      "             other_aid       0.37      0.27      0.31       863\n",
      "infrastructure_related       0.22      0.18      0.20       417\n",
      "             transport       0.40      0.29      0.33       294\n",
      "             buildings       0.45      0.48      0.46       330\n",
      "           electricity       0.29      0.46      0.36       119\n",
      "             hospitals       0.10      0.24      0.14        71\n",
      "  other_infrastructure       0.16      0.14      0.15       288\n",
      "       weather_related       0.78      0.72      0.75      1820\n",
      "                floods       0.70      0.60      0.65       561\n",
      "                 storm       0.64      0.67      0.65       607\n",
      "                  fire       0.12      0.37      0.19        59\n",
      "            earthquake       0.81      0.81      0.81       626\n",
      "                  cold       0.49      0.49      0.49       128\n",
      "         other_weather       0.31      0.29      0.30       348\n",
      "         direct_report       0.52      0.53      0.53      1248\n",
      "\n",
      "             micro avg       0.64      0.62      0.63     20323\n",
      "             macro avg       0.45      0.46      0.45     20323\n",
      "          weighted avg       0.64      0.62      0.63     20323\n",
      "           samples avg       0.50      0.50      0.46     20323\n",
      "\n"
     ]
    }
   ],
   "source": [
    "print(classification_report(y_true=y_true, \n",
    "                            y_pred=y_hat4, \n",
    "                            target_names = Y.columns))"
   ]
  },
  {
   "cell_type": "markdown",
   "metadata": {},
   "source": [
    "### 9. Export your model as a pickle file"
   ]
  },
  {
   "cell_type": "code",
   "execution_count": 30,
   "metadata": {},
   "outputs": [],
   "source": [
    "pickle.dump(tuned_model, open('disaster_model.pkl', 'wb'))"
   ]
  },
  {
   "cell_type": "markdown",
   "metadata": {},
   "source": [
    "### 10. Use this notebook to complete `train.py`\n",
    "Use the template file attached in the Resources folder to write a script that runs the steps above to create a database and export a model based on a new dataset specified by the user."
   ]
  },
  {
   "cell_type": "code",
   "execution_count": null,
   "metadata": {},
   "outputs": [],
   "source": []
  }
 ],
 "metadata": {
  "kernelspec": {
   "display_name": "Python 3.10.2 64-bit ('3.10.2')",
   "language": "python",
   "name": "python3"
  },
  "language_info": {
   "codemirror_mode": {
    "name": "ipython",
    "version": 3
   },
   "file_extension": ".py",
   "mimetype": "text/x-python",
   "name": "python",
   "nbconvert_exporter": "python",
   "pygments_lexer": "ipython3",
   "version": "3.10.2"
  },
  "vscode": {
   "interpreter": {
    "hash": "fc9f616ff272b72794d5d1455fac3d934270dac6dcdbc94a2b85ae5204ec925b"
   }
  }
 },
 "nbformat": 4,
 "nbformat_minor": 2
}
